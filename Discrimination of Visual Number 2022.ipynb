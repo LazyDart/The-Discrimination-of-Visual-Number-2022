{
 "cells": [
  {
   "cell_type": "markdown",
   "id": "31f97551",
   "metadata": {},
   "source": [
    "# The Discrimination of Visual Number 2022 - Workflow"
   ]
  },
  {
   "cell_type": "code",
   "execution_count": 90,
   "id": "383730c6",
   "metadata": {},
   "outputs": [],
   "source": [
    "import pandas as pd\n",
    "import numpy as np\n",
    "from scipy import stats\n",
    "import seaborn as sb"
   ]
  },
  {
   "cell_type": "markdown",
   "id": "39816ee6",
   "metadata": {},
   "source": [
    "In my project, I've used data collected by myself.\n",
    "I've collected 236 Answers to my survey resulting in 86 Valid answers."
   ]
  },
  {
   "cell_type": "code",
   "execution_count": 91,
   "id": "16783e88",
   "metadata": {},
   "outputs": [],
   "source": [
    "results0 = pd.read_csv(\"results-survey693479.csv\")"
   ]
  },
  {
   "cell_type": "code",
   "execution_count": 92,
   "id": "a6d56532",
   "metadata": {},
   "outputs": [],
   "source": [
    "results = results0.iloc[:, 0:79].dropna()"
   ]
  },
  {
   "cell_type": "markdown",
   "id": "2d2ce7b3",
   "metadata": {},
   "source": [
    "The study consisted of 70 answers veryfing the accuracy and the certainty of numerousness estimation of a visual objects."
   ]
  },
  {
   "cell_type": "code",
   "execution_count": 93,
   "id": "f40dbfa4",
   "metadata": {},
   "outputs": [
    {
     "name": "stdout",
     "output_type": "stream",
     "text": [
      "<class 'pandas.core.frame.DataFrame'>\n",
      "Int64Index: 89 entries, 1 to 230\n",
      "Data columns (total 79 columns):\n",
      " #   Column         Non-Null Count  Dtype  \n",
      "---  ------         --------------  -----  \n",
      " 0   id             89 non-null     int64  \n",
      " 1   submitdate     89 non-null     object \n",
      " 2   lastpage       89 non-null     float64\n",
      " 3   startlanguage  89 non-null     object \n",
      " 4   seed           89 non-null     int64  \n",
      " 5   wiek           89 non-null     float64\n",
      " 6   plec           89 non-null     object \n",
      " 7   G99Q99         89 non-null     object \n",
      " 8   G00Q00         89 non-null     float64\n",
      " 9   G00Q01         89 non-null     float64\n",
      " 10  G01Q00         89 non-null     float64\n",
      " 11  G01Q01         89 non-null     float64\n",
      " 12  G02Q00         89 non-null     float64\n",
      " 13  G02Q01         89 non-null     float64\n",
      " 14  G03Q00         89 non-null     float64\n",
      " 15  G03Q01         89 non-null     float64\n",
      " 16  G04Q00         89 non-null     float64\n",
      " 17  G04Q01         89 non-null     float64\n",
      " 18  G05Q00         89 non-null     float64\n",
      " 19  G05Q01         89 non-null     float64\n",
      " 20  G06Q00         89 non-null     float64\n",
      " 21  G06Q01         89 non-null     float64\n",
      " 22  G07Q00         89 non-null     float64\n",
      " 23  G07Q01         89 non-null     float64\n",
      " 24  G08Q00         89 non-null     float64\n",
      " 25  G08Q01         89 non-null     float64\n",
      " 26  G09Q00         89 non-null     float64\n",
      " 27  G09Q01         89 non-null     float64\n",
      " 28  G10Q00         89 non-null     float64\n",
      " 29  G10Q01         89 non-null     float64\n",
      " 30  G11Q00         89 non-null     float64\n",
      " 31  G11Q01         89 non-null     float64\n",
      " 32  G13Q00         89 non-null     float64\n",
      " 33  G13Q01         89 non-null     float64\n",
      " 34  G14Q00         89 non-null     float64\n",
      " 35  G14Q01         89 non-null     float64\n",
      " 36  G15Q00         89 non-null     float64\n",
      " 37  G15Q01         89 non-null     float64\n",
      " 38  G17Q00         89 non-null     float64\n",
      " 39  G17Q01         89 non-null     float64\n",
      " 40  G19Q00         89 non-null     float64\n",
      " 41  G19Q01         89 non-null     float64\n",
      " 42  G22Q00         89 non-null     float64\n",
      " 43  G22Q01         89 non-null     float64\n",
      " 44  G25Q00         89 non-null     float64\n",
      " 45  G25Q01         89 non-null     float64\n",
      " 46  G28Q00         89 non-null     float64\n",
      " 47  G28Q01         89 non-null     float64\n",
      " 48  G32Q00         89 non-null     float64\n",
      " 49  G32Q01         89 non-null     float64\n",
      " 50  G37Q00         89 non-null     float64\n",
      " 51  G37Q01         89 non-null     float64\n",
      " 52  G42Q00         89 non-null     float64\n",
      " 53  G42Q01         89 non-null     float64\n",
      " 54  G49Q00         89 non-null     float64\n",
      " 55  G49Q01         89 non-null     float64\n",
      " 56  G57Q00         89 non-null     float64\n",
      " 57  G57Q01         89 non-null     float64\n",
      " 58  G66Q00         89 non-null     float64\n",
      " 59  G66Q01         89 non-null     float64\n",
      " 60  G77Q00         89 non-null     float64\n",
      " 61  G77Q01         89 non-null     float64\n",
      " 62  G89Q00         89 non-null     float64\n",
      " 63  G89Q01         89 non-null     float64\n",
      " 64  G103Q00        89 non-null     float64\n",
      " 65  G103Q01        89 non-null     float64\n",
      " 66  G118Q00        89 non-null     float64\n",
      " 67  G118Q01        89 non-null     float64\n",
      " 68  G134Q00        89 non-null     float64\n",
      " 69  G134Q01        89 non-null     float64\n",
      " 70  G152Q00        89 non-null     float64\n",
      " 71  G152Q01        89 non-null     float64\n",
      " 72  G170Q00        89 non-null     float64\n",
      " 73  G170Q01        89 non-null     float64\n",
      " 74  G191Q00        89 non-null     float64\n",
      " 75  G191Q01        89 non-null     float64\n",
      " 76  G210Q00        89 non-null     float64\n",
      " 77  G210Q01        89 non-null     float64\n",
      " 78  interviewtime  89 non-null     float64\n",
      "dtypes: float64(73), int64(2), object(4)\n",
      "memory usage: 55.6+ KB\n"
     ]
    }
   ],
   "source": [
    "results.info()"
   ]
  },
  {
   "cell_type": "code",
   "execution_count": 94,
   "id": "93e70fd5",
   "metadata": {},
   "outputs": [],
   "source": [
    "results = results.drop([126])\n",
    "results = results.drop([98])\n",
    "results = results.drop([13])"
   ]
  },
  {
   "cell_type": "code",
   "execution_count": 95,
   "id": "95e13e63",
   "metadata": {
    "scrolled": true
   },
   "outputs": [
    {
     "data": {
      "text/html": [
       "<div>\n",
       "<style scoped>\n",
       "    .dataframe tbody tr th:only-of-type {\n",
       "        vertical-align: middle;\n",
       "    }\n",
       "\n",
       "    .dataframe tbody tr th {\n",
       "        vertical-align: top;\n",
       "    }\n",
       "\n",
       "    .dataframe thead th {\n",
       "        text-align: right;\n",
       "    }\n",
       "</style>\n",
       "<table border=\"1\" class=\"dataframe\">\n",
       "  <thead>\n",
       "    <tr style=\"text-align: right;\">\n",
       "      <th></th>\n",
       "      <th>id</th>\n",
       "      <th>lastpage</th>\n",
       "      <th>seed</th>\n",
       "      <th>wiek</th>\n",
       "      <th>G00Q00</th>\n",
       "      <th>G00Q01</th>\n",
       "      <th>G01Q00</th>\n",
       "      <th>G01Q01</th>\n",
       "      <th>G02Q00</th>\n",
       "      <th>G02Q01</th>\n",
       "      <th>...</th>\n",
       "      <th>G134Q01</th>\n",
       "      <th>G152Q00</th>\n",
       "      <th>G152Q01</th>\n",
       "      <th>G170Q00</th>\n",
       "      <th>G170Q01</th>\n",
       "      <th>G191Q00</th>\n",
       "      <th>G191Q01</th>\n",
       "      <th>G210Q00</th>\n",
       "      <th>G210Q01</th>\n",
       "      <th>interviewtime</th>\n",
       "    </tr>\n",
       "  </thead>\n",
       "  <tbody>\n",
       "    <tr>\n",
       "      <th>count</th>\n",
       "      <td>86.000000</td>\n",
       "      <td>86.0</td>\n",
       "      <td>8.600000e+01</td>\n",
       "      <td>86.000000</td>\n",
       "      <td>86.000000</td>\n",
       "      <td>86.000000</td>\n",
       "      <td>86.000000</td>\n",
       "      <td>86.000000</td>\n",
       "      <td>86.000000</td>\n",
       "      <td>86.000000</td>\n",
       "      <td>...</td>\n",
       "      <td>86.000000</td>\n",
       "      <td>86.000000</td>\n",
       "      <td>86.000000</td>\n",
       "      <td>86.000000</td>\n",
       "      <td>86.000000</td>\n",
       "      <td>86.000000</td>\n",
       "      <td>86.000000</td>\n",
       "      <td>86.000000</td>\n",
       "      <td>86.000000</td>\n",
       "      <td>86.000000</td>\n",
       "    </tr>\n",
       "    <tr>\n",
       "      <th>mean</th>\n",
       "      <td>124.918605</td>\n",
       "      <td>37.0</td>\n",
       "      <td>1.005723e+09</td>\n",
       "      <td>36.290698</td>\n",
       "      <td>1.011628</td>\n",
       "      <td>7.500000</td>\n",
       "      <td>2.034884</td>\n",
       "      <td>9.302326</td>\n",
       "      <td>3.046512</td>\n",
       "      <td>9.395349</td>\n",
       "      <td>...</td>\n",
       "      <td>3.697674</td>\n",
       "      <td>85.465116</td>\n",
       "      <td>4.046512</td>\n",
       "      <td>96.651163</td>\n",
       "      <td>3.965116</td>\n",
       "      <td>108.488372</td>\n",
       "      <td>3.906977</td>\n",
       "      <td>107.337209</td>\n",
       "      <td>3.965116</td>\n",
       "      <td>584.090814</td>\n",
       "    </tr>\n",
       "    <tr>\n",
       "      <th>std</th>\n",
       "      <td>64.300620</td>\n",
       "      <td>0.0</td>\n",
       "      <td>6.403080e+08</td>\n",
       "      <td>117.566689</td>\n",
       "      <td>0.583986</td>\n",
       "      <td>3.245812</td>\n",
       "      <td>0.184561</td>\n",
       "      <td>1.970785</td>\n",
       "      <td>0.261533</td>\n",
       "      <td>1.536069</td>\n",
       "      <td>...</td>\n",
       "      <td>2.114765</td>\n",
       "      <td>42.950230</td>\n",
       "      <td>2.340975</td>\n",
       "      <td>69.352428</td>\n",
       "      <td>2.323525</td>\n",
       "      <td>73.115339</td>\n",
       "      <td>2.428400</td>\n",
       "      <td>59.874695</td>\n",
       "      <td>2.203995</td>\n",
       "      <td>293.367770</td>\n",
       "    </tr>\n",
       "    <tr>\n",
       "      <th>min</th>\n",
       "      <td>2.000000</td>\n",
       "      <td>37.0</td>\n",
       "      <td>8.680745e+06</td>\n",
       "      <td>14.000000</td>\n",
       "      <td>0.000000</td>\n",
       "      <td>0.000000</td>\n",
       "      <td>2.000000</td>\n",
       "      <td>1.000000</td>\n",
       "      <td>2.000000</td>\n",
       "      <td>1.000000</td>\n",
       "      <td>...</td>\n",
       "      <td>0.000000</td>\n",
       "      <td>0.000000</td>\n",
       "      <td>0.000000</td>\n",
       "      <td>0.000000</td>\n",
       "      <td>0.000000</td>\n",
       "      <td>0.000000</td>\n",
       "      <td>0.000000</td>\n",
       "      <td>10.000000</td>\n",
       "      <td>1.000000</td>\n",
       "      <td>389.480000</td>\n",
       "    </tr>\n",
       "    <tr>\n",
       "      <th>25%</th>\n",
       "      <td>81.250000</td>\n",
       "      <td>37.0</td>\n",
       "      <td>4.670858e+08</td>\n",
       "      <td>19.000000</td>\n",
       "      <td>1.000000</td>\n",
       "      <td>6.000000</td>\n",
       "      <td>2.000000</td>\n",
       "      <td>10.000000</td>\n",
       "      <td>3.000000</td>\n",
       "      <td>10.000000</td>\n",
       "      <td>...</td>\n",
       "      <td>2.000000</td>\n",
       "      <td>52.500000</td>\n",
       "      <td>2.000000</td>\n",
       "      <td>58.500000</td>\n",
       "      <td>2.000000</td>\n",
       "      <td>60.000000</td>\n",
       "      <td>2.000000</td>\n",
       "      <td>70.000000</td>\n",
       "      <td>2.000000</td>\n",
       "      <td>454.632500</td>\n",
       "    </tr>\n",
       "    <tr>\n",
       "      <th>50%</th>\n",
       "      <td>123.000000</td>\n",
       "      <td>37.0</td>\n",
       "      <td>9.842916e+08</td>\n",
       "      <td>20.000000</td>\n",
       "      <td>1.000000</td>\n",
       "      <td>9.000000</td>\n",
       "      <td>2.000000</td>\n",
       "      <td>10.000000</td>\n",
       "      <td>3.000000</td>\n",
       "      <td>10.000000</td>\n",
       "      <td>...</td>\n",
       "      <td>4.000000</td>\n",
       "      <td>75.500000</td>\n",
       "      <td>4.000000</td>\n",
       "      <td>84.500000</td>\n",
       "      <td>4.000000</td>\n",
       "      <td>99.500000</td>\n",
       "      <td>4.000000</td>\n",
       "      <td>100.000000</td>\n",
       "      <td>4.000000</td>\n",
       "      <td>509.080000</td>\n",
       "    </tr>\n",
       "    <tr>\n",
       "      <th>75%</th>\n",
       "      <td>177.500000</td>\n",
       "      <td>37.0</td>\n",
       "      <td>1.528934e+09</td>\n",
       "      <td>23.750000</td>\n",
       "      <td>1.000000</td>\n",
       "      <td>10.000000</td>\n",
       "      <td>2.000000</td>\n",
       "      <td>10.000000</td>\n",
       "      <td>3.000000</td>\n",
       "      <td>10.000000</td>\n",
       "      <td>...</td>\n",
       "      <td>5.000000</td>\n",
       "      <td>110.000000</td>\n",
       "      <td>6.000000</td>\n",
       "      <td>111.500000</td>\n",
       "      <td>6.000000</td>\n",
       "      <td>129.500000</td>\n",
       "      <td>6.000000</td>\n",
       "      <td>124.500000</td>\n",
       "      <td>5.000000</td>\n",
       "      <td>607.682500</td>\n",
       "    </tr>\n",
       "    <tr>\n",
       "      <th>max</th>\n",
       "      <td>237.000000</td>\n",
       "      <td>37.0</td>\n",
       "      <td>2.147316e+09</td>\n",
       "      <td>1111.000000</td>\n",
       "      <td>5.000000</td>\n",
       "      <td>10.000000</td>\n",
       "      <td>3.000000</td>\n",
       "      <td>10.000000</td>\n",
       "      <td>4.000000</td>\n",
       "      <td>10.000000</td>\n",
       "      <td>...</td>\n",
       "      <td>8.000000</td>\n",
       "      <td>220.000000</td>\n",
       "      <td>10.000000</td>\n",
       "      <td>550.000000</td>\n",
       "      <td>10.000000</td>\n",
       "      <td>400.000000</td>\n",
       "      <td>10.000000</td>\n",
       "      <td>350.000000</td>\n",
       "      <td>9.000000</td>\n",
       "      <td>2177.750000</td>\n",
       "    </tr>\n",
       "  </tbody>\n",
       "</table>\n",
       "<p>8 rows × 75 columns</p>\n",
       "</div>"
      ],
      "text/plain": [
       "               id  lastpage          seed         wiek     G00Q00     G00Q01  \\\n",
       "count   86.000000      86.0  8.600000e+01    86.000000  86.000000  86.000000   \n",
       "mean   124.918605      37.0  1.005723e+09    36.290698   1.011628   7.500000   \n",
       "std     64.300620       0.0  6.403080e+08   117.566689   0.583986   3.245812   \n",
       "min      2.000000      37.0  8.680745e+06    14.000000   0.000000   0.000000   \n",
       "25%     81.250000      37.0  4.670858e+08    19.000000   1.000000   6.000000   \n",
       "50%    123.000000      37.0  9.842916e+08    20.000000   1.000000   9.000000   \n",
       "75%    177.500000      37.0  1.528934e+09    23.750000   1.000000  10.000000   \n",
       "max    237.000000      37.0  2.147316e+09  1111.000000   5.000000  10.000000   \n",
       "\n",
       "          G01Q00     G01Q01     G02Q00     G02Q01  ...    G134Q01     G152Q00  \\\n",
       "count  86.000000  86.000000  86.000000  86.000000  ...  86.000000   86.000000   \n",
       "mean    2.034884   9.302326   3.046512   9.395349  ...   3.697674   85.465116   \n",
       "std     0.184561   1.970785   0.261533   1.536069  ...   2.114765   42.950230   \n",
       "min     2.000000   1.000000   2.000000   1.000000  ...   0.000000    0.000000   \n",
       "25%     2.000000  10.000000   3.000000  10.000000  ...   2.000000   52.500000   \n",
       "50%     2.000000  10.000000   3.000000  10.000000  ...   4.000000   75.500000   \n",
       "75%     2.000000  10.000000   3.000000  10.000000  ...   5.000000  110.000000   \n",
       "max     3.000000  10.000000   4.000000  10.000000  ...   8.000000  220.000000   \n",
       "\n",
       "         G152Q01     G170Q00    G170Q01     G191Q00    G191Q01     G210Q00  \\\n",
       "count  86.000000   86.000000  86.000000   86.000000  86.000000   86.000000   \n",
       "mean    4.046512   96.651163   3.965116  108.488372   3.906977  107.337209   \n",
       "std     2.340975   69.352428   2.323525   73.115339   2.428400   59.874695   \n",
       "min     0.000000    0.000000   0.000000    0.000000   0.000000   10.000000   \n",
       "25%     2.000000   58.500000   2.000000   60.000000   2.000000   70.000000   \n",
       "50%     4.000000   84.500000   4.000000   99.500000   4.000000  100.000000   \n",
       "75%     6.000000  111.500000   6.000000  129.500000   6.000000  124.500000   \n",
       "max    10.000000  550.000000  10.000000  400.000000  10.000000  350.000000   \n",
       "\n",
       "         G210Q01  interviewtime  \n",
       "count  86.000000      86.000000  \n",
       "mean    3.965116     584.090814  \n",
       "std     2.203995     293.367770  \n",
       "min     1.000000     389.480000  \n",
       "25%     2.000000     454.632500  \n",
       "50%     4.000000     509.080000  \n",
       "75%     5.000000     607.682500  \n",
       "max     9.000000    2177.750000  \n",
       "\n",
       "[8 rows x 75 columns]"
      ]
     },
     "execution_count": 95,
     "metadata": {},
     "output_type": "execute_result"
    }
   ],
   "source": [
    "results.describe()"
   ]
  },
  {
   "cell_type": "markdown",
   "id": "6c50616d",
   "metadata": {},
   "source": [
    "### Demographic Section\n",
    "Here I've verified the age and a gender of study participants.\n",
    "I've also created graphs used for my future presentations."
   ]
  },
  {
   "cell_type": "code",
   "execution_count": 96,
   "id": "224f17e2",
   "metadata": {},
   "outputs": [
    {
     "data": {
      "text/html": [
       "<div>\n",
       "<style scoped>\n",
       "    .dataframe tbody tr th:only-of-type {\n",
       "        vertical-align: middle;\n",
       "    }\n",
       "\n",
       "    .dataframe tbody tr th {\n",
       "        vertical-align: top;\n",
       "    }\n",
       "\n",
       "    .dataframe thead th {\n",
       "        text-align: right;\n",
       "    }\n",
       "</style>\n",
       "<table border=\"1\" class=\"dataframe\">\n",
       "  <thead>\n",
       "    <tr style=\"text-align: right;\">\n",
       "      <th></th>\n",
       "      <th>id</th>\n",
       "      <th>submitdate</th>\n",
       "      <th>lastpage</th>\n",
       "      <th>startlanguage</th>\n",
       "      <th>seed</th>\n",
       "      <th>wiek</th>\n",
       "      <th>plec</th>\n",
       "      <th>G99Q99</th>\n",
       "      <th>G00Q00</th>\n",
       "      <th>G00Q01</th>\n",
       "      <th>...</th>\n",
       "      <th>G134Q01</th>\n",
       "      <th>G152Q00</th>\n",
       "      <th>G152Q01</th>\n",
       "      <th>G170Q00</th>\n",
       "      <th>G170Q01</th>\n",
       "      <th>G191Q00</th>\n",
       "      <th>G191Q01</th>\n",
       "      <th>G210Q00</th>\n",
       "      <th>G210Q01</th>\n",
       "      <th>interviewtime</th>\n",
       "    </tr>\n",
       "  </thead>\n",
       "  <tbody>\n",
       "    <tr>\n",
       "      <th>152</th>\n",
       "      <td>157</td>\n",
       "      <td>1980-01-01 00:00:00</td>\n",
       "      <td>37.0</td>\n",
       "      <td>pl</td>\n",
       "      <td>1361525967</td>\n",
       "      <td>1111.0</td>\n",
       "      <td>mężczyzna</td>\n",
       "      <td>Zapoznałam/em się z instrukcją i używam komput...</td>\n",
       "      <td>1.0</td>\n",
       "      <td>10.0</td>\n",
       "      <td>...</td>\n",
       "      <td>4.0</td>\n",
       "      <td>60.0</td>\n",
       "      <td>6.0</td>\n",
       "      <td>50.0</td>\n",
       "      <td>5.0</td>\n",
       "      <td>0.0</td>\n",
       "      <td>0.0</td>\n",
       "      <td>70.0</td>\n",
       "      <td>6.0</td>\n",
       "      <td>404.76</td>\n",
       "    </tr>\n",
       "    <tr>\n",
       "      <th>124</th>\n",
       "      <td>127</td>\n",
       "      <td>1980-01-01 00:00:00</td>\n",
       "      <td>37.0</td>\n",
       "      <td>pl</td>\n",
       "      <td>1229859907</td>\n",
       "      <td>54.0</td>\n",
       "      <td>mężczyzna</td>\n",
       "      <td>Zapoznałam/em się z instrukcją i używam komput...</td>\n",
       "      <td>1.0</td>\n",
       "      <td>1.0</td>\n",
       "      <td>...</td>\n",
       "      <td>3.0</td>\n",
       "      <td>120.0</td>\n",
       "      <td>3.0</td>\n",
       "      <td>200.0</td>\n",
       "      <td>3.0</td>\n",
       "      <td>150.0</td>\n",
       "      <td>2.0</td>\n",
       "      <td>150.0</td>\n",
       "      <td>3.0</td>\n",
       "      <td>545.79</td>\n",
       "    </tr>\n",
       "    <tr>\n",
       "      <th>1</th>\n",
       "      <td>2</td>\n",
       "      <td>1980-01-01 00:00:00</td>\n",
       "      <td>37.0</td>\n",
       "      <td>pl</td>\n",
       "      <td>354469609</td>\n",
       "      <td>50.0</td>\n",
       "      <td>kobieta</td>\n",
       "      <td>Zapoznałam/em się z instrukcją i używam telefo...</td>\n",
       "      <td>0.0</td>\n",
       "      <td>5.0</td>\n",
       "      <td>...</td>\n",
       "      <td>2.0</td>\n",
       "      <td>140.0</td>\n",
       "      <td>2.0</td>\n",
       "      <td>170.0</td>\n",
       "      <td>2.0</td>\n",
       "      <td>160.0</td>\n",
       "      <td>2.0</td>\n",
       "      <td>140.0</td>\n",
       "      <td>3.0</td>\n",
       "      <td>818.01</td>\n",
       "    </tr>\n",
       "    <tr>\n",
       "      <th>85</th>\n",
       "      <td>87</td>\n",
       "      <td>1980-01-01 00:00:00</td>\n",
       "      <td>37.0</td>\n",
       "      <td>pl</td>\n",
       "      <td>271040689</td>\n",
       "      <td>50.0</td>\n",
       "      <td>mężczyzna</td>\n",
       "      <td>Nie udało mi się włączyć \"Wersji na komputer\" ...</td>\n",
       "      <td>0.0</td>\n",
       "      <td>0.0</td>\n",
       "      <td>...</td>\n",
       "      <td>5.0</td>\n",
       "      <td>75.0</td>\n",
       "      <td>4.0</td>\n",
       "      <td>89.0</td>\n",
       "      <td>5.0</td>\n",
       "      <td>60.0</td>\n",
       "      <td>5.0</td>\n",
       "      <td>120.0</td>\n",
       "      <td>4.0</td>\n",
       "      <td>880.35</td>\n",
       "    </tr>\n",
       "    <tr>\n",
       "      <th>84</th>\n",
       "      <td>86</td>\n",
       "      <td>1980-01-01 00:00:00</td>\n",
       "      <td>37.0</td>\n",
       "      <td>pl</td>\n",
       "      <td>1527408253</td>\n",
       "      <td>50.0</td>\n",
       "      <td>kobieta</td>\n",
       "      <td>Nie udało mi się włączyć \"Wersji na komputer\" ...</td>\n",
       "      <td>0.0</td>\n",
       "      <td>0.0</td>\n",
       "      <td>...</td>\n",
       "      <td>6.0</td>\n",
       "      <td>40.0</td>\n",
       "      <td>4.0</td>\n",
       "      <td>38.0</td>\n",
       "      <td>5.0</td>\n",
       "      <td>40.0</td>\n",
       "      <td>5.0</td>\n",
       "      <td>40.0</td>\n",
       "      <td>4.0</td>\n",
       "      <td>674.97</td>\n",
       "    </tr>\n",
       "    <tr>\n",
       "      <th>...</th>\n",
       "      <td>...</td>\n",
       "      <td>...</td>\n",
       "      <td>...</td>\n",
       "      <td>...</td>\n",
       "      <td>...</td>\n",
       "      <td>...</td>\n",
       "      <td>...</td>\n",
       "      <td>...</td>\n",
       "      <td>...</td>\n",
       "      <td>...</td>\n",
       "      <td>...</td>\n",
       "      <td>...</td>\n",
       "      <td>...</td>\n",
       "      <td>...</td>\n",
       "      <td>...</td>\n",
       "      <td>...</td>\n",
       "      <td>...</td>\n",
       "      <td>...</td>\n",
       "      <td>...</td>\n",
       "      <td>...</td>\n",
       "      <td>...</td>\n",
       "    </tr>\n",
       "    <tr>\n",
       "      <th>135</th>\n",
       "      <td>138</td>\n",
       "      <td>1980-01-01 00:00:00</td>\n",
       "      <td>37.0</td>\n",
       "      <td>pl</td>\n",
       "      <td>533791273</td>\n",
       "      <td>18.0</td>\n",
       "      <td>kobieta</td>\n",
       "      <td>Zapoznałam/em się z instrukcją i używam komput...</td>\n",
       "      <td>1.0</td>\n",
       "      <td>3.0</td>\n",
       "      <td>...</td>\n",
       "      <td>0.0</td>\n",
       "      <td>80.0</td>\n",
       "      <td>2.0</td>\n",
       "      <td>80.0</td>\n",
       "      <td>3.0</td>\n",
       "      <td>80.0</td>\n",
       "      <td>3.0</td>\n",
       "      <td>80.0</td>\n",
       "      <td>3.0</td>\n",
       "      <td>541.60</td>\n",
       "    </tr>\n",
       "    <tr>\n",
       "      <th>226</th>\n",
       "      <td>233</td>\n",
       "      <td>1980-01-01 00:00:00</td>\n",
       "      <td>37.0</td>\n",
       "      <td>pl</td>\n",
       "      <td>70130344</td>\n",
       "      <td>17.0</td>\n",
       "      <td>mężczyzna</td>\n",
       "      <td>Zapoznałam/em się z instrukcją i używam komput...</td>\n",
       "      <td>1.0</td>\n",
       "      <td>8.0</td>\n",
       "      <td>...</td>\n",
       "      <td>6.0</td>\n",
       "      <td>65.0</td>\n",
       "      <td>5.0</td>\n",
       "      <td>65.0</td>\n",
       "      <td>6.0</td>\n",
       "      <td>80.0</td>\n",
       "      <td>4.0</td>\n",
       "      <td>99.0</td>\n",
       "      <td>5.0</td>\n",
       "      <td>640.04</td>\n",
       "    </tr>\n",
       "    <tr>\n",
       "      <th>148</th>\n",
       "      <td>153</td>\n",
       "      <td>1980-01-01 00:00:00</td>\n",
       "      <td>37.0</td>\n",
       "      <td>pl</td>\n",
       "      <td>562525812</td>\n",
       "      <td>17.0</td>\n",
       "      <td>kobieta</td>\n",
       "      <td>Zapoznałam/em się z instrukcją i używam komput...</td>\n",
       "      <td>1.0</td>\n",
       "      <td>7.0</td>\n",
       "      <td>...</td>\n",
       "      <td>2.0</td>\n",
       "      <td>30.0</td>\n",
       "      <td>1.0</td>\n",
       "      <td>40.0</td>\n",
       "      <td>2.0</td>\n",
       "      <td>60.0</td>\n",
       "      <td>3.0</td>\n",
       "      <td>60.0</td>\n",
       "      <td>3.0</td>\n",
       "      <td>392.93</td>\n",
       "    </tr>\n",
       "    <tr>\n",
       "      <th>171</th>\n",
       "      <td>176</td>\n",
       "      <td>1980-01-01 00:00:00</td>\n",
       "      <td>37.0</td>\n",
       "      <td>pl</td>\n",
       "      <td>968666388</td>\n",
       "      <td>16.0</td>\n",
       "      <td>mężczyzna</td>\n",
       "      <td>Zapoznałam/em się z instrukcją i używam komput...</td>\n",
       "      <td>1.0</td>\n",
       "      <td>10.0</td>\n",
       "      <td>...</td>\n",
       "      <td>6.0</td>\n",
       "      <td>170.0</td>\n",
       "      <td>7.0</td>\n",
       "      <td>185.0</td>\n",
       "      <td>6.0</td>\n",
       "      <td>235.0</td>\n",
       "      <td>8.0</td>\n",
       "      <td>150.0</td>\n",
       "      <td>7.0</td>\n",
       "      <td>438.36</td>\n",
       "    </tr>\n",
       "    <tr>\n",
       "      <th>88</th>\n",
       "      <td>90</td>\n",
       "      <td>1980-01-01 00:00:00</td>\n",
       "      <td>37.0</td>\n",
       "      <td>pl</td>\n",
       "      <td>1165582010</td>\n",
       "      <td>14.0</td>\n",
       "      <td>mężczyzna</td>\n",
       "      <td>Zapoznałam/em się z instrukcją i używam komput...</td>\n",
       "      <td>1.0</td>\n",
       "      <td>9.0</td>\n",
       "      <td>...</td>\n",
       "      <td>4.0</td>\n",
       "      <td>89.0</td>\n",
       "      <td>8.0</td>\n",
       "      <td>150.0</td>\n",
       "      <td>6.0</td>\n",
       "      <td>90.0</td>\n",
       "      <td>4.0</td>\n",
       "      <td>100.0</td>\n",
       "      <td>3.0</td>\n",
       "      <td>565.43</td>\n",
       "    </tr>\n",
       "  </tbody>\n",
       "</table>\n",
       "<p>86 rows × 79 columns</p>\n",
       "</div>"
      ],
      "text/plain": [
       "      id           submitdate  lastpage startlanguage        seed    wiek  \\\n",
       "152  157  1980-01-01 00:00:00      37.0            pl  1361525967  1111.0   \n",
       "124  127  1980-01-01 00:00:00      37.0            pl  1229859907    54.0   \n",
       "1      2  1980-01-01 00:00:00      37.0            pl   354469609    50.0   \n",
       "85    87  1980-01-01 00:00:00      37.0            pl   271040689    50.0   \n",
       "84    86  1980-01-01 00:00:00      37.0            pl  1527408253    50.0   \n",
       "..   ...                  ...       ...           ...         ...     ...   \n",
       "135  138  1980-01-01 00:00:00      37.0            pl   533791273    18.0   \n",
       "226  233  1980-01-01 00:00:00      37.0            pl    70130344    17.0   \n",
       "148  153  1980-01-01 00:00:00      37.0            pl   562525812    17.0   \n",
       "171  176  1980-01-01 00:00:00      37.0            pl   968666388    16.0   \n",
       "88    90  1980-01-01 00:00:00      37.0            pl  1165582010    14.0   \n",
       "\n",
       "          plec                                             G99Q99  G00Q00  \\\n",
       "152  mężczyzna  Zapoznałam/em się z instrukcją i używam komput...     1.0   \n",
       "124  mężczyzna  Zapoznałam/em się z instrukcją i używam komput...     1.0   \n",
       "1      kobieta  Zapoznałam/em się z instrukcją i używam telefo...     0.0   \n",
       "85   mężczyzna  Nie udało mi się włączyć \"Wersji na komputer\" ...     0.0   \n",
       "84     kobieta  Nie udało mi się włączyć \"Wersji na komputer\" ...     0.0   \n",
       "..         ...                                                ...     ...   \n",
       "135    kobieta  Zapoznałam/em się z instrukcją i używam komput...     1.0   \n",
       "226  mężczyzna  Zapoznałam/em się z instrukcją i używam komput...     1.0   \n",
       "148    kobieta  Zapoznałam/em się z instrukcją i używam komput...     1.0   \n",
       "171  mężczyzna  Zapoznałam/em się z instrukcją i używam komput...     1.0   \n",
       "88   mężczyzna  Zapoznałam/em się z instrukcją i używam komput...     1.0   \n",
       "\n",
       "     G00Q01  ...  G134Q01  G152Q00  G152Q01  G170Q00  G170Q01  G191Q00  \\\n",
       "152    10.0  ...      4.0     60.0      6.0     50.0      5.0      0.0   \n",
       "124     1.0  ...      3.0    120.0      3.0    200.0      3.0    150.0   \n",
       "1       5.0  ...      2.0    140.0      2.0    170.0      2.0    160.0   \n",
       "85      0.0  ...      5.0     75.0      4.0     89.0      5.0     60.0   \n",
       "84      0.0  ...      6.0     40.0      4.0     38.0      5.0     40.0   \n",
       "..      ...  ...      ...      ...      ...      ...      ...      ...   \n",
       "135     3.0  ...      0.0     80.0      2.0     80.0      3.0     80.0   \n",
       "226     8.0  ...      6.0     65.0      5.0     65.0      6.0     80.0   \n",
       "148     7.0  ...      2.0     30.0      1.0     40.0      2.0     60.0   \n",
       "171    10.0  ...      6.0    170.0      7.0    185.0      6.0    235.0   \n",
       "88      9.0  ...      4.0     89.0      8.0    150.0      6.0     90.0   \n",
       "\n",
       "     G191Q01  G210Q00  G210Q01  interviewtime  \n",
       "152      0.0     70.0      6.0         404.76  \n",
       "124      2.0    150.0      3.0         545.79  \n",
       "1        2.0    140.0      3.0         818.01  \n",
       "85       5.0    120.0      4.0         880.35  \n",
       "84       5.0     40.0      4.0         674.97  \n",
       "..       ...      ...      ...            ...  \n",
       "135      3.0     80.0      3.0         541.60  \n",
       "226      4.0     99.0      5.0         640.04  \n",
       "148      3.0     60.0      3.0         392.93  \n",
       "171      8.0    150.0      7.0         438.36  \n",
       "88       4.0    100.0      3.0         565.43  \n",
       "\n",
       "[86 rows x 79 columns]"
      ]
     },
     "execution_count": 96,
     "metadata": {},
     "output_type": "execute_result"
    }
   ],
   "source": [
    "results.sort_values(\"wiek\", ascending=0)\n",
    "# Dwa górne wieki są nieprawidłowe"
   ]
  },
  {
   "cell_type": "code",
   "execution_count": 97,
   "id": "d88be714",
   "metadata": {
    "scrolled": true
   },
   "outputs": [
    {
     "data": {
      "text/plain": [
       "count    85.000000\n",
       "mean     23.647059\n",
       "std       8.643337\n",
       "min      14.000000\n",
       "25%      19.000000\n",
       "50%      20.000000\n",
       "75%      23.000000\n",
       "max      54.000000\n",
       "Name: wiek, dtype: float64"
      ]
     },
     "execution_count": 97,
     "metadata": {},
     "output_type": "execute_result"
    }
   ],
   "source": [
    "results[\"wiek\"][results[\"wiek\"]<100].describe()\n",
    "# Podstawowe Dane dla wieku"
   ]
  },
  {
   "cell_type": "code",
   "execution_count": 98,
   "id": "6be85645",
   "metadata": {},
   "outputs": [],
   "source": [
    "strwiek = pd.Series([results[\"wiek\"][(results[\"wiek\"] <=10*i) & (results[\"wiek\"] > 10*(i-1))].count() for i in range(2, 7)], index=[\"10-20\", \"21-30\", \"31-40\", \"41-50\", \"50<\"])"
   ]
  },
  {
   "cell_type": "code",
   "execution_count": 99,
   "id": "c22a2d53",
   "metadata": {},
   "outputs": [
    {
     "data": {
      "text/plain": [
       "10-20    44\n",
       "21-30    29\n",
       "31-40     4\n",
       "41-50     7\n",
       "50<       1\n",
       "dtype: int64"
      ]
     },
     "execution_count": 99,
     "metadata": {},
     "output_type": "execute_result"
    }
   ],
   "source": [
    "strwiek"
   ]
  },
  {
   "cell_type": "code",
   "execution_count": 100,
   "id": "2991eb43",
   "metadata": {},
   "outputs": [
    {
     "data": {
      "text/plain": [
       "[Text(0.5, 0, 'Grupa Wiekowa'), Text(0, 0.5, 'Ilość osób')]"
      ]
     },
     "execution_count": 100,
     "metadata": {},
     "output_type": "execute_result"
    },
    {
     "data": {
      "image/png": "[encoded data removed]",
      "text/plain": [
       "<Figure size 986.4x739.44 with 1 Axes>"
      ]
     },
     "metadata": {},
     "output_type": "display_data"
    }
   ],
   "source": [
    "obrazek4 = sb.barplot(x=strwiek.index, y=strwiek)\n",
    "obrazek4.set(xlabel=\"Grupa Wiekowa\", ylabel=\"Ilość osób\")"
   ]
  },
  {
   "cell_type": "code",
   "execution_count": 101,
   "id": "c091fc36",
   "metadata": {},
   "outputs": [
    {
     "data": {
      "text/html": [
       "<div>\n",
       "<style scoped>\n",
       "    .dataframe tbody tr th:only-of-type {\n",
       "        vertical-align: middle;\n",
       "    }\n",
       "\n",
       "    .dataframe tbody tr th {\n",
       "        vertical-align: top;\n",
       "    }\n",
       "\n",
       "    .dataframe thead th {\n",
       "        text-align: right;\n",
       "    }\n",
       "</style>\n",
       "<table border=\"1\" class=\"dataframe\">\n",
       "  <thead>\n",
       "    <tr style=\"text-align: right;\">\n",
       "      <th></th>\n",
       "      <th>id</th>\n",
       "      <th>lastpage</th>\n",
       "      <th>seed</th>\n",
       "      <th>wiek</th>\n",
       "      <th>G00Q00</th>\n",
       "      <th>G00Q01</th>\n",
       "      <th>G01Q00</th>\n",
       "      <th>G01Q01</th>\n",
       "      <th>G02Q00</th>\n",
       "      <th>G02Q01</th>\n",
       "      <th>...</th>\n",
       "      <th>G134Q01</th>\n",
       "      <th>G152Q00</th>\n",
       "      <th>G152Q01</th>\n",
       "      <th>G170Q00</th>\n",
       "      <th>G170Q01</th>\n",
       "      <th>G191Q00</th>\n",
       "      <th>G191Q01</th>\n",
       "      <th>G210Q00</th>\n",
       "      <th>G210Q01</th>\n",
       "      <th>interviewtime</th>\n",
       "    </tr>\n",
       "  </thead>\n",
       "  <tbody>\n",
       "    <tr>\n",
       "      <th>count</th>\n",
       "      <td>86.000000</td>\n",
       "      <td>86.0</td>\n",
       "      <td>8.600000e+01</td>\n",
       "      <td>86.000000</td>\n",
       "      <td>86.000000</td>\n",
       "      <td>86.000000</td>\n",
       "      <td>86.000000</td>\n",
       "      <td>86.000000</td>\n",
       "      <td>86.000000</td>\n",
       "      <td>86.000000</td>\n",
       "      <td>...</td>\n",
       "      <td>86.000000</td>\n",
       "      <td>86.000000</td>\n",
       "      <td>86.000000</td>\n",
       "      <td>86.000000</td>\n",
       "      <td>86.000000</td>\n",
       "      <td>86.000000</td>\n",
       "      <td>86.000000</td>\n",
       "      <td>86.000000</td>\n",
       "      <td>86.000000</td>\n",
       "      <td>86.000000</td>\n",
       "    </tr>\n",
       "    <tr>\n",
       "      <th>mean</th>\n",
       "      <td>124.918605</td>\n",
       "      <td>37.0</td>\n",
       "      <td>1.005723e+09</td>\n",
       "      <td>36.290698</td>\n",
       "      <td>1.011628</td>\n",
       "      <td>7.500000</td>\n",
       "      <td>2.034884</td>\n",
       "      <td>9.302326</td>\n",
       "      <td>3.046512</td>\n",
       "      <td>9.395349</td>\n",
       "      <td>...</td>\n",
       "      <td>3.697674</td>\n",
       "      <td>85.465116</td>\n",
       "      <td>4.046512</td>\n",
       "      <td>96.651163</td>\n",
       "      <td>3.965116</td>\n",
       "      <td>108.488372</td>\n",
       "      <td>3.906977</td>\n",
       "      <td>107.337209</td>\n",
       "      <td>3.965116</td>\n",
       "      <td>584.090814</td>\n",
       "    </tr>\n",
       "    <tr>\n",
       "      <th>std</th>\n",
       "      <td>64.300620</td>\n",
       "      <td>0.0</td>\n",
       "      <td>6.403080e+08</td>\n",
       "      <td>117.566689</td>\n",
       "      <td>0.583986</td>\n",
       "      <td>3.245812</td>\n",
       "      <td>0.184561</td>\n",
       "      <td>1.970785</td>\n",
       "      <td>0.261533</td>\n",
       "      <td>1.536069</td>\n",
       "      <td>...</td>\n",
       "      <td>2.114765</td>\n",
       "      <td>42.950230</td>\n",
       "      <td>2.340975</td>\n",
       "      <td>69.352428</td>\n",
       "      <td>2.323525</td>\n",
       "      <td>73.115339</td>\n",
       "      <td>2.428400</td>\n",
       "      <td>59.874695</td>\n",
       "      <td>2.203995</td>\n",
       "      <td>293.367770</td>\n",
       "    </tr>\n",
       "    <tr>\n",
       "      <th>min</th>\n",
       "      <td>2.000000</td>\n",
       "      <td>37.0</td>\n",
       "      <td>8.680745e+06</td>\n",
       "      <td>14.000000</td>\n",
       "      <td>0.000000</td>\n",
       "      <td>0.000000</td>\n",
       "      <td>2.000000</td>\n",
       "      <td>1.000000</td>\n",
       "      <td>2.000000</td>\n",
       "      <td>1.000000</td>\n",
       "      <td>...</td>\n",
       "      <td>0.000000</td>\n",
       "      <td>0.000000</td>\n",
       "      <td>0.000000</td>\n",
       "      <td>0.000000</td>\n",
       "      <td>0.000000</td>\n",
       "      <td>0.000000</td>\n",
       "      <td>0.000000</td>\n",
       "      <td>10.000000</td>\n",
       "      <td>1.000000</td>\n",
       "      <td>389.480000</td>\n",
       "    </tr>\n",
       "    <tr>\n",
       "      <th>25%</th>\n",
       "      <td>81.250000</td>\n",
       "      <td>37.0</td>\n",
       "      <td>4.670858e+08</td>\n",
       "      <td>19.000000</td>\n",
       "      <td>1.000000</td>\n",
       "      <td>6.000000</td>\n",
       "      <td>2.000000</td>\n",
       "      <td>10.000000</td>\n",
       "      <td>3.000000</td>\n",
       "      <td>10.000000</td>\n",
       "      <td>...</td>\n",
       "      <td>2.000000</td>\n",
       "      <td>52.500000</td>\n",
       "      <td>2.000000</td>\n",
       "      <td>58.500000</td>\n",
       "      <td>2.000000</td>\n",
       "      <td>60.000000</td>\n",
       "      <td>2.000000</td>\n",
       "      <td>70.000000</td>\n",
       "      <td>2.000000</td>\n",
       "      <td>454.632500</td>\n",
       "    </tr>\n",
       "    <tr>\n",
       "      <th>50%</th>\n",
       "      <td>123.000000</td>\n",
       "      <td>37.0</td>\n",
       "      <td>9.842916e+08</td>\n",
       "      <td>20.000000</td>\n",
       "      <td>1.000000</td>\n",
       "      <td>9.000000</td>\n",
       "      <td>2.000000</td>\n",
       "      <td>10.000000</td>\n",
       "      <td>3.000000</td>\n",
       "      <td>10.000000</td>\n",
       "      <td>...</td>\n",
       "      <td>4.000000</td>\n",
       "      <td>75.500000</td>\n",
       "      <td>4.000000</td>\n",
       "      <td>84.500000</td>\n",
       "      <td>4.000000</td>\n",
       "      <td>99.500000</td>\n",
       "      <td>4.000000</td>\n",
       "      <td>100.000000</td>\n",
       "      <td>4.000000</td>\n",
       "      <td>509.080000</td>\n",
       "    </tr>\n",
       "    <tr>\n",
       "      <th>75%</th>\n",
       "      <td>177.500000</td>\n",
       "      <td>37.0</td>\n",
       "      <td>1.528934e+09</td>\n",
       "      <td>23.750000</td>\n",
       "      <td>1.000000</td>\n",
       "      <td>10.000000</td>\n",
       "      <td>2.000000</td>\n",
       "      <td>10.000000</td>\n",
       "      <td>3.000000</td>\n",
       "      <td>10.000000</td>\n",
       "      <td>...</td>\n",
       "      <td>5.000000</td>\n",
       "      <td>110.000000</td>\n",
       "      <td>6.000000</td>\n",
       "      <td>111.500000</td>\n",
       "      <td>6.000000</td>\n",
       "      <td>129.500000</td>\n",
       "      <td>6.000000</td>\n",
       "      <td>124.500000</td>\n",
       "      <td>5.000000</td>\n",
       "      <td>607.682500</td>\n",
       "    </tr>\n",
       "    <tr>\n",
       "      <th>max</th>\n",
       "      <td>237.000000</td>\n",
       "      <td>37.0</td>\n",
       "      <td>2.147316e+09</td>\n",
       "      <td>1111.000000</td>\n",
       "      <td>5.000000</td>\n",
       "      <td>10.000000</td>\n",
       "      <td>3.000000</td>\n",
       "      <td>10.000000</td>\n",
       "      <td>4.000000</td>\n",
       "      <td>10.000000</td>\n",
       "      <td>...</td>\n",
       "      <td>8.000000</td>\n",
       "      <td>220.000000</td>\n",
       "      <td>10.000000</td>\n",
       "      <td>550.000000</td>\n",
       "      <td>10.000000</td>\n",
       "      <td>400.000000</td>\n",
       "      <td>10.000000</td>\n",
       "      <td>350.000000</td>\n",
       "      <td>9.000000</td>\n",
       "      <td>2177.750000</td>\n",
       "    </tr>\n",
       "  </tbody>\n",
       "</table>\n",
       "<p>8 rows × 75 columns</p>\n",
       "</div>"
      ],
      "text/plain": [
       "               id  lastpage          seed         wiek     G00Q00     G00Q01  \\\n",
       "count   86.000000      86.0  8.600000e+01    86.000000  86.000000  86.000000   \n",
       "mean   124.918605      37.0  1.005723e+09    36.290698   1.011628   7.500000   \n",
       "std     64.300620       0.0  6.403080e+08   117.566689   0.583986   3.245812   \n",
       "min      2.000000      37.0  8.680745e+06    14.000000   0.000000   0.000000   \n",
       "25%     81.250000      37.0  4.670858e+08    19.000000   1.000000   6.000000   \n",
       "50%    123.000000      37.0  9.842916e+08    20.000000   1.000000   9.000000   \n",
       "75%    177.500000      37.0  1.528934e+09    23.750000   1.000000  10.000000   \n",
       "max    237.000000      37.0  2.147316e+09  1111.000000   5.000000  10.000000   \n",
       "\n",
       "          G01Q00     G01Q01     G02Q00     G02Q01  ...    G134Q01     G152Q00  \\\n",
       "count  86.000000  86.000000  86.000000  86.000000  ...  86.000000   86.000000   \n",
       "mean    2.034884   9.302326   3.046512   9.395349  ...   3.697674   85.465116   \n",
       "std     0.184561   1.970785   0.261533   1.536069  ...   2.114765   42.950230   \n",
       "min     2.000000   1.000000   2.000000   1.000000  ...   0.000000    0.000000   \n",
       "25%     2.000000  10.000000   3.000000  10.000000  ...   2.000000   52.500000   \n",
       "50%     2.000000  10.000000   3.000000  10.000000  ...   4.000000   75.500000   \n",
       "75%     2.000000  10.000000   3.000000  10.000000  ...   5.000000  110.000000   \n",
       "max     3.000000  10.000000   4.000000  10.000000  ...   8.000000  220.000000   \n",
       "\n",
       "         G152Q01     G170Q00    G170Q01     G191Q00    G191Q01     G210Q00  \\\n",
       "count  86.000000   86.000000  86.000000   86.000000  86.000000   86.000000   \n",
       "mean    4.046512   96.651163   3.965116  108.488372   3.906977  107.337209   \n",
       "std     2.340975   69.352428   2.323525   73.115339   2.428400   59.874695   \n",
       "min     0.000000    0.000000   0.000000    0.000000   0.000000   10.000000   \n",
       "25%     2.000000   58.500000   2.000000   60.000000   2.000000   70.000000   \n",
       "50%     4.000000   84.500000   4.000000   99.500000   4.000000  100.000000   \n",
       "75%     6.000000  111.500000   6.000000  129.500000   6.000000  124.500000   \n",
       "max    10.000000  550.000000  10.000000  400.000000  10.000000  350.000000   \n",
       "\n",
       "         G210Q01  interviewtime  \n",
       "count  86.000000      86.000000  \n",
       "mean    3.965116     584.090814  \n",
       "std     2.203995     293.367770  \n",
       "min     1.000000     389.480000  \n",
       "25%     2.000000     454.632500  \n",
       "50%     4.000000     509.080000  \n",
       "75%     5.000000     607.682500  \n",
       "max     9.000000    2177.750000  \n",
       "\n",
       "[8 rows x 75 columns]"
      ]
     },
     "execution_count": 101,
     "metadata": {},
     "output_type": "execute_result"
    }
   ],
   "source": [
    "results.describe()"
   ]
  },
  {
   "cell_type": "code",
   "execution_count": 102,
   "id": "3e441fde",
   "metadata": {},
   "outputs": [
    {
     "data": {
      "text/plain": [
       "kobieta      45\n",
       "mężczyzna    41\n",
       "Name: plec, dtype: int64"
      ]
     },
     "execution_count": 102,
     "metadata": {},
     "output_type": "execute_result"
    }
   ],
   "source": [
    "results[\"plec\"].value_counts().index = [\"Kobiety\", \"Mężczyźni\"]\n",
    "results[\"plec\"].value_counts()\n",
    "# Ilość kobiet i mężczyzn"
   ]
  },
  {
   "cell_type": "code",
   "execution_count": 103,
   "id": "0697889c",
   "metadata": {
    "scrolled": false
   },
   "outputs": [
    {
     "data": {
      "text/plain": [
       "[Text(0.5, 0, 'Ilość osób')]"
      ]
     },
     "execution_count": 103,
     "metadata": {},
     "output_type": "execute_result"
    },
    {
     "data": {
      "image/png": "[encoded data removed]",
      "text/plain": [
       "<Figure size 986.4x739.44 with 1 Axes>"
      ]
     },
     "metadata": {},
     "output_type": "display_data"
    }
   ],
   "source": [
    "obrazek3 = sb.barplot(x=results[\"plec\"].value_counts(), y=[\"Kobiety\", \"Mężczyźni\"], orient=\"h\")\n",
    "obrazek3.set(xlabel=\"Ilość osób\")\n"
   ]
  },
  {
   "cell_type": "code",
   "execution_count": 104,
   "id": "2101b104",
   "metadata": {},
   "outputs": [
    {
     "data": {
      "text/plain": [
       "count      86.000000\n",
       "mean      584.090814\n",
       "std       293.367770\n",
       "min       389.480000\n",
       "25%       454.632500\n",
       "50%       509.080000\n",
       "75%       607.682500\n",
       "max      2177.750000\n",
       "Name: interviewtime, dtype: float64"
      ]
     },
     "execution_count": 104,
     "metadata": {},
     "output_type": "execute_result"
    }
   ],
   "source": [
    "results[\"interviewtime\"].describe()\n",
    "#średni czas rozwiązywania zadań - 9.6 min"
   ]
  },
  {
   "cell_type": "markdown",
   "id": "a5714608",
   "metadata": {},
   "source": [
    "### Study Results Section\n",
    "Here I've gathered data veryfying our study hypothesis."
   ]
  },
  {
   "cell_type": "code",
   "execution_count": 105,
   "id": "9c117106",
   "metadata": {},
   "outputs": [],
   "source": [
    "lol = results.iloc[:, 8:78].T"
   ]
  },
  {
   "cell_type": "code",
   "execution_count": 106,
   "id": "c332bbdd",
   "metadata": {},
   "outputs": [
    {
     "data": {
      "text/plain": [
       "71     200.0\n",
       "175    210.0\n",
       "203    217.0\n",
       "155    220.0\n",
       "171    235.0\n",
       "183    250.0\n",
       "79     300.0\n",
       "54     328.0\n",
       "82     350.0\n",
       "161    550.0\n",
       "dtype: float64"
      ]
     },
     "execution_count": 106,
     "metadata": {},
     "output_type": "execute_result"
    }
   ],
   "source": [
    "lol.max().sort_values().tail(10)"
   ]
  },
  {
   "cell_type": "code",
   "execution_count": 107,
   "id": "6d0e4681",
   "metadata": {},
   "outputs": [],
   "source": [
    "indexes = [1, 2, 3, 4, 5, 6, 7, 8, 9, 10, 11, 12, 13, 14, 15, 17, 19, 22, 25, 28, 32, 37, 42, 49, 57, 66, 77, 89, 103, 118, 134, 152, 170, 191, 210]"
   ]
  },
  {
   "cell_type": "code",
   "execution_count": 108,
   "id": "a69e8f6b",
   "metadata": {},
   "outputs": [],
   "source": [
    "numbers = lol[[i.endswith(\"00\") for i in lol.index]]"
   ]
  },
  {
   "cell_type": "code",
   "execution_count": 109,
   "id": "84bab58a",
   "metadata": {},
   "outputs": [],
   "source": [
    "certainty = lol[[i.endswith(\"01\") for i in lol.index]]"
   ]
  },
  {
   "cell_type": "code",
   "execution_count": 110,
   "id": "65c4b58f",
   "metadata": {},
   "outputs": [],
   "source": [
    "scissors = pd.DataFrame([val != 0 for val in certainty.values])\n",
    "scissors.index = indexes\n",
    "scissors.columns = numbers.columns"
   ]
  },
  {
   "cell_type": "code",
   "execution_count": 111,
   "id": "04550cb9",
   "metadata": {},
   "outputs": [],
   "source": [
    "numbers.index=indexes"
   ]
  },
  {
   "cell_type": "code",
   "execution_count": 112,
   "id": "ba078604",
   "metadata": {
    "scrolled": true
   },
   "outputs": [
    {
     "data": {
      "text/plain": [
       "41"
      ]
     },
     "execution_count": 112,
     "metadata": {},
     "output_type": "execute_result"
    }
   ],
   "source": [
    "numbers.max()[numbers.max()<=100].count()"
   ]
  },
  {
   "cell_type": "code",
   "execution_count": 113,
   "id": "642f8bdd",
   "metadata": {},
   "outputs": [],
   "source": [
    "certainty.index=indexes"
   ]
  },
  {
   "cell_type": "code",
   "execution_count": 114,
   "id": "376c5186",
   "metadata": {},
   "outputs": [
    {
     "data": {
      "text/plain": [
       "Ttest_indResult(statistic=-2.1699652449103906, pvalue=0.016416754709644106)"
      ]
     },
     "execution_count": 114,
     "metadata": {},
     "output_type": "execute_result"
    }
   ],
   "source": [
    "women = certainty[scissors].mean()[results[\"plec\"]==\"kobieta\"]\n",
    "men = certainty[scissors].mean()[results[\"plec\"]==\"mężczyzna\"]\n",
    "\n",
    "stats.ttest_ind(women, men, alternative=\"less\")"
   ]
  },
  {
   "cell_type": "code",
   "execution_count": 115,
   "id": "bdb07642",
   "metadata": {},
   "outputs": [
    {
     "name": "stdout",
     "output_type": "stream",
     "text": [
      "5.496928104575163 6.168833058875358\n"
     ]
    }
   ],
   "source": [
    "print(women.mean(), men.mean())"
   ]
  },
  {
   "cell_type": "code",
   "execution_count": 116,
   "id": "c830fe10",
   "metadata": {},
   "outputs": [],
   "source": [
    "numdiff = pd.Series([np.absolute(numbers[scissors].loc[i]-i).mean() for i in numbers.index], indexes)"
   ]
  },
  {
   "cell_type": "code",
   "execution_count": 117,
   "id": "58be1b33",
   "metadata": {},
   "outputs": [],
   "source": [
    "percerr = pd.Series([(100*np.absolute((numbers[scissors].loc[i]-i))/i).mean() for i in numbers.index], indexes)"
   ]
  },
  {
   "cell_type": "code",
   "execution_count": 118,
   "id": "d0c6c1e3",
   "metadata": {},
   "outputs": [],
   "source": [
    "E0 = percerr.loc[1:7]\n",
    "E1 = percerr.loc[8:210]"
   ]
  },
  {
   "cell_type": "code",
   "execution_count": 119,
   "id": "c8767d50",
   "metadata": {},
   "outputs": [
    {
     "data": {
      "text/plain": [
       "count     7.000000\n",
       "mean      6.385024\n",
       "std       3.683628\n",
       "min       1.744186\n",
       "25%       4.069767\n",
       "50%       6.201550\n",
       "75%       8.132109\n",
       "max      12.345679\n",
       "dtype: float64"
      ]
     },
     "execution_count": 119,
     "metadata": {},
     "output_type": "execute_result"
    }
   ],
   "source": [
    "E0.describe()"
   ]
  },
  {
   "cell_type": "code",
   "execution_count": 120,
   "id": "6e6714bf",
   "metadata": {
    "scrolled": true
   },
   "outputs": [
    {
     "data": {
      "text/plain": [
       "count    28.000000\n",
       "mean     33.259177\n",
       "std      12.063934\n",
       "min      11.895425\n",
       "25%      24.563728\n",
       "50%      31.339272\n",
       "75%      44.481817\n",
       "max      52.585825\n",
       "dtype: float64"
      ]
     },
     "execution_count": 120,
     "metadata": {},
     "output_type": "execute_result"
    }
   ],
   "source": [
    "E1.describe()"
   ]
  },
  {
   "cell_type": "code",
   "execution_count": 121,
   "id": "72c7aaf5",
   "metadata": {},
   "outputs": [],
   "source": [
    "zmienna1 = pd.DataFrame([(100*np.absolute((numbers[scissors].loc[i]-i))/i) for i in numbers.index], indexes).T"
   ]
  },
  {
   "cell_type": "markdown",
   "id": "c45fd509",
   "metadata": {},
   "source": [
    "### The results confirm our hypothesis with a stuning value:\n",
    "Statistic = 26\n",
    "pvalue < 0.00001  (9.914402184397522e-16)\n"
   ]
  },
  {
   "cell_type": "code",
   "execution_count": 151,
   "id": "4ee556b1",
   "metadata": {},
   "outputs": [
    {
     "data": {
      "text/plain": [
       "WilcoxonResult(statistic=26.0, pvalue=9.914402184397522e-16)"
      ]
     },
     "execution_count": 151,
     "metadata": {},
     "output_type": "execute_result"
    }
   ],
   "source": [
    "eos = tuple(zmienna1.loc[:, 1:7].T.mean())\n",
    "eet = tuple(zmienna1.loc[:, 8:].T.mean())\n",
    "\n",
    "stats.wilcoxon(eos, eet, alternative=\"less\")"
   ]
  },
  {
   "cell_type": "code",
   "execution_count": 123,
   "id": "355b9020",
   "metadata": {
    "scrolled": true
   },
   "outputs": [
    {
     "data": {
      "text/plain": [
       "[Text(0.5, 0, 'Ilość Kropek'), Text(0, 0.5, 'Procent Błędu')]"
      ]
     },
     "execution_count": 123,
     "metadata": {},
     "output_type": "execute_result"
    },
    {
     "data": {
      "image/png": "[encoded data removed]",
      "text/plain": [
       "<Figure size 986.4x739.44 with 1 Axes>"
      ]
     },
     "metadata": {},
     "output_type": "display_data"
    }
   ],
   "source": [
    "#percerr.plot(kind=\"line\")\n",
    "sb.set_theme(style=\"whitegrid\", palette=\"pastel\")\n",
    "sb.set(rc={'figure.figsize':(13.7,10.27)})\n",
    "sb.set(font_scale=2)\n",
    "obrazek1 = sb.lineplot(x=percerr.index, y=percerr, data=percerr,color=\"r\")\n",
    "obrazek1.set(xlabel=\"Ilość Kropek\", ylabel=\"Procent Błędu\")\n"
   ]
  },
  {
   "cell_type": "code",
   "execution_count": 124,
   "id": "64c84e04",
   "metadata": {},
   "outputs": [
    {
     "data": {
      "text/plain": [
       "<AxesSubplot:>"
      ]
     },
     "execution_count": 124,
     "metadata": {},
     "output_type": "execute_result"
    },
    {
     "data": {
      "image/png": "[encoded data removed]",
      "text/plain": [
       "<Figure size 986.4x739.44 with 1 Axes>"
      ]
     },
     "metadata": {},
     "output_type": "display_data"
    }
   ],
   "source": [
    "numdiff.plot(kind=\"line\")"
   ]
  },
  {
   "cell_type": "code",
   "execution_count": 125,
   "id": "b7744cae",
   "metadata": {},
   "outputs": [],
   "source": [
    "certmedian = certainty.T.median()"
   ]
  },
  {
   "cell_type": "markdown",
   "id": "138d2b49",
   "metadata": {},
   "source": [
    "### The results confirm our 2nd hypothesis with a stuning value:\n",
    "Statistic = 23\n",
    "pvalue < 0.00001  (1.1415136234802116e-39)\n"
   ]
  },
  {
   "cell_type": "code",
   "execution_count": 150,
   "id": "f2086c18",
   "metadata": {},
   "outputs": [
    {
     "data": {
      "text/plain": [
       "Ttest_relResult(statistic=23.813102639789747, pvalue=1.1415136234802116e-39)"
      ]
     },
     "execution_count": 150,
     "metadata": {},
     "output_type": "execute_result"
    }
   ],
   "source": [
    "cert1 = certainty[scissors].loc[1:7].mean()\n",
    "cert2 = certainty[scissors].loc[8:210].mean()\n",
    "\n",
    "stats.ttest_rel(cert1, cert2, alternative=\"greater\")"
   ]
  },
  {
   "cell_type": "code",
   "execution_count": 87,
   "id": "1209d358",
   "metadata": {
    "scrolled": false
   },
   "outputs": [
    {
     "data": {
      "text/plain": [
       "[(0.0, 15.0), (0.0, 12.0)]"
      ]
     },
     "execution_count": 87,
     "metadata": {},
     "output_type": "execute_result"
    },
    {
     "data": {
      "image/png": "[encoded data removed]",
      "text/plain": [
       "<Figure size 986.4x739.44 with 1 Axes>"
      ]
     },
     "metadata": {},
     "output_type": "display_data"
    }
   ],
   "source": [
    "sb.set_context(\"talk\")\n",
    "sb.set_theme(style=\"whitegrid\", palette=\"pastel\")\n",
    "sb.set(rc={'figure.figsize':(13.7,10.27)})\n",
    "sb.set(font_scale=2)\n",
    "obrazek2 = sb.lineplot(x=certmedian.index, y=certmedian, data=certmedian,color=\"g\")\n",
    "obrazek2.set(xlabel=\"Ilość Kropek\", ylabel=\"Poziom pewności\")\n",
    "obrazek2.set(xlim=(0, 15), ylim=(0, 12))"
   ]
  }
 ],
 "metadata": {
  "kernelspec": {
   "display_name": "Python 3 (ipykernel)",
   "language": "python",
   "name": "python3"
  },
  "language_info": {
   "codemirror_mode": {
    "name": "ipython",
    "version": 3
   },
   "file_extension": ".py",
   "mimetype": "text/x-python",
   "name": "python",
   "nbconvert_exporter": "python",
   "pygments_lexer": "ipython3",
   "version": "3.9.13"
  }
 },
 "nbformat": 4,
 "nbformat_minor": 5
}
